{
 "cells": [
  {
   "cell_type": "code",
   "execution_count": 1,
   "id": "2ce43363-1ee7-43de-8e7a-7fbe2b8c6a03",
   "metadata": {},
   "outputs": [
    {
     "name": "stdout",
     "output_type": "stream",
     "text": [
      "too high\n"
     ]
    }
   ],
   "source": [
    "## 4.1\n",
    "secret = 4\n",
    "guess = 7\n",
    "\n",
    "if guess < secret:\n",
    "    print('too low')\n",
    "\n",
    "elif guess > secret:\n",
    "    print('too high')\n",
    "\n",
    "else: \n",
    "    print('just right')"
   ]
  },
  {
   "cell_type": "code",
   "execution_count": 19,
   "id": "05d0ca55-7253-4f73-916c-4a96fca19830",
   "metadata": {},
   "outputs": [
    {
     "name": "stdin",
     "output_type": "stream",
     "text": [
      "What is your choice? watermelon\n"
     ]
    },
    {
     "name": "stdout",
     "output_type": "stream",
     "text": [
      "False\n"
     ]
    }
   ],
   "source": [
    "## 4.2\n",
    "small = True\n",
    "green = False\n",
    "\n",
    "choice = input('What is your choice?')\n",
    "               \n",
    "if choice == 'cherry':\n",
    "    print(small)\n",
    "elif choice == 'pea':\n",
    "    print(small)\n",
    "elif choice == 'watermelon':\n",
    "    print(green)\n",
    "else:\n",
    "    if choice == 'pumpkin':\n",
    "        print(green)\n"
   ]
  },
  {
   "cell_type": "code",
   "execution_count": 27,
   "id": "049eabdc-a303-4bec-b58b-60404fe4a1c9",
   "metadata": {},
   "outputs": [
    {
     "data": {
      "text/plain": [
       "[3, 2, 1, 0]"
      ]
     },
     "execution_count": 27,
     "metadata": {},
     "output_type": "execute_result"
    }
   ],
   "source": [
    "## 6.1\n",
    "list(range(3, -1, -1))"
   ]
  },
  {
   "cell_type": "code",
   "execution_count": 17,
   "id": "0fc85d04-2f6e-45ca-b178-82334607fd14",
   "metadata": {},
   "outputs": [
    {
     "name": "stdout",
     "output_type": "stream",
     "text": [
      "too low\n",
      "too low\n",
      "too low\n",
      "too low\n",
      "too low\n",
      "too low\n",
      "found it!\n"
     ]
    }
   ],
   "source": [
    "## 6.2\n",
    "guess_me = 7\n",
    "number = 1\n",
    "\n",
    "while number < guess_me:\n",
    "    print('too low')\n",
    "    number += 1\n",
    "    if number == guess_me:\n",
    "        print('found it!')\n",
    "        break\n",
    "    else:\n",
    "        if number > guess_me:\n",
    "            print('oops')\n",
    "            break"
   ]
  },
  {
   "cell_type": "code",
   "execution_count": 33,
   "id": "a0ee58f1-c572-41ec-9d41-b9e7451dc854",
   "metadata": {},
   "outputs": [
    {
     "name": "stdout",
     "output_type": "stream",
     "text": [
      "fount it!\n"
     ]
    }
   ],
   "source": [
    "## 6.3\n",
    "guess_me = 5\n",
    "\n",
    "for number in range(0,10):\n",
    "    if number > guess_me:\n",
    "        print('too low')\n",
    "    elif number > guess_me:\n",
    "        print('oops')\n",
    "        break\n",
    "    elif number == guess_me:\n",
    "            print('fount it!')\n",
    "            break"
   ]
  },
  {
   "cell_type": "code",
   "execution_count": null,
   "id": "4d79d672-7de8-4acf-ac08-8f59d73195dd",
   "metadata": {},
   "outputs": [],
   "source": []
  }
 ],
 "metadata": {
  "kernelspec": {
   "display_name": "Python 3 (ipykernel)",
   "language": "python",
   "name": "python3"
  },
  "language_info": {
   "codemirror_mode": {
    "name": "ipython",
    "version": 3
   },
   "file_extension": ".py",
   "mimetype": "text/x-python",
   "name": "python",
   "nbconvert_exporter": "python",
   "pygments_lexer": "ipython3",
   "version": "3.12.4"
  }
 },
 "nbformat": 4,
 "nbformat_minor": 5
}
